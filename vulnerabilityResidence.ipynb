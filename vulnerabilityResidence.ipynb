{
  "cells": [
    {
      "cell_type": "markdown",
      "metadata": {
        "id": "view-in-github",
        "colab_type": "text"
      },
      "source": [
        "<a href=\"https://colab.research.google.com/github/GuiSales404/insightLab/blob/main/vulnerabilityResidence.ipynb\" target=\"_parent\"><img src=\"https://colab.research.google.com/assets/colab-badge.svg\" alt=\"Open In Colab\"/></a>"
      ]
    },
    {
      "cell_type": "code",
      "source": [
        "from google.colab import drive\n",
        "drive.mount('/content/drive')"
      ],
      "metadata": {
        "colab": {
          "base_uri": "https://localhost:8080/"
        },
        "id": "gcRZkH1udgyI",
        "outputId": "4f84e0d9-503e-4113-9e09-a9aeb6a5d743"
      },
      "execution_count": 1,
      "outputs": [
        {
          "output_type": "stream",
          "name": "stdout",
          "text": [
            "Drive already mounted at /content/drive; to attempt to forcibly remount, call drive.mount(\"/content/drive\", force_remount=True).\n"
          ]
        }
      ]
    },
    {
      "cell_type": "code",
      "source": [
        "%cd \"/content/drive/MyDrive/vulnerabilidadeResidence\""
      ],
      "metadata": {
        "colab": {
          "base_uri": "https://localhost:8080/"
        },
        "id": "dfPgH976R2vj",
        "outputId": "bf2ba76e-39a9-4c79-d77d-2c1667727a55"
      },
      "execution_count": 2,
      "outputs": [
        {
          "output_type": "stream",
          "name": "stdout",
          "text": [
            "/content/drive/MyDrive/vulnerabilidadeResidence\n"
          ]
        }
      ]
    },
    {
      "cell_type": "code",
      "execution_count": 3,
      "metadata": {
        "colab": {
          "base_uri": "https://localhost:8080/"
        },
        "id": "rP_O6KaCRpbq",
        "outputId": "b09498b7-0afd-4bd4-8835-c86f25d8a28a"
      },
      "outputs": [
        {
          "output_type": "stream",
          "name": "stdout",
          "text": [
            "Requirement already satisfied: matplotlib==3.4.2 in /usr/local/lib/python3.7/dist-packages (3.4.2)\n",
            "Requirement already satisfied: cycler>=0.10 in /usr/local/lib/python3.7/dist-packages (from matplotlib==3.4.2) (0.11.0)\n",
            "Requirement already satisfied: numpy>=1.16 in /usr/local/lib/python3.7/dist-packages (from matplotlib==3.4.2) (1.21.5)\n",
            "Requirement already satisfied: pillow>=6.2.0 in /usr/local/lib/python3.7/dist-packages (from matplotlib==3.4.2) (7.1.2)\n",
            "Requirement already satisfied: pyparsing>=2.2.1 in /usr/local/lib/python3.7/dist-packages (from matplotlib==3.4.2) (3.0.7)\n",
            "Requirement already satisfied: python-dateutil>=2.7 in /usr/local/lib/python3.7/dist-packages (from matplotlib==3.4.2) (2.8.2)\n",
            "Requirement already satisfied: kiwisolver>=1.0.1 in /usr/local/lib/python3.7/dist-packages (from matplotlib==3.4.2) (1.3.2)\n",
            "Requirement already satisfied: six>=1.5 in /usr/local/lib/python3.7/dist-packages (from python-dateutil>=2.7->matplotlib==3.4.2) (1.15.0)\n"
          ]
        }
      ],
      "source": [
        "!pip install matplotlib==3.4.2"
      ]
    },
    {
      "cell_type": "code",
      "execution_count": 4,
      "metadata": {
        "id": "E8oIX_5HRpbt"
      },
      "outputs": [],
      "source": [
        "import matplotlib.pyplot as plt\n",
        "import numpy as np\n",
        "import pandas as pd\n",
        "\n",
        "plt.style.use('grayscale')\n",
        "plt.rcParams.update({'font.size': 15})"
      ]
    },
    {
      "cell_type": "code",
      "execution_count": 5,
      "metadata": {
        "id": "WsBUv4kMRpbu"
      },
      "outputs": [],
      "source": [
        "data = pd.read_csv(\"/content/drive/MyDrive/vulnerabilidadeResidence/questoes_residence_paper.csv\", header=None)"
      ]
    },
    {
      "cell_type": "code",
      "execution_count": 6,
      "metadata": {
        "id": "sr9pgvSuRpbv"
      },
      "outputs": [],
      "source": [
        "data.columns = [\"ID\"] + [f\"q{i}\" for i in range(1, len(data.columns))]"
      ]
    },
    {
      "cell_type": "code",
      "execution_count": 7,
      "metadata": {
        "id": "EjRja_x0Rpbv"
      },
      "outputs": [],
      "source": [
        "data = data.drop(index=[0,2])\n",
        "data.reset_index(drop=True, inplace=True)\n",
        "data.iloc[0].ID = \"family_id\""
      ]
    },
    {
      "cell_type": "code",
      "execution_count": 8,
      "metadata": {
        "id": "4_5bnLnhRpbw"
      },
      "outputs": [],
      "source": [
        "data.ID = data.ID.str.lower()\n",
        "\n",
        "for i in range(1, len(data.columns)):\n",
        "    data[f\"q{i}\"] = data[f\"q{i}\"].str.lower()   "
      ]
    },
    {
      "cell_type": "code",
      "execution_count": 10,
      "metadata": {
        "colab": {
          "base_uri": "https://localhost:8080/",
          "height": 710
        },
        "id": "TGuQ1J8tRpbw",
        "outputId": "c310420f-d213-4a70-e88a-1139b23648af"
      },
      "outputs": [
        {
          "output_type": "execute_result",
          "data": {
            "text/html": [
              "\n",
              "  <div id=\"df-d4d1acc7-7174-44fe-910e-d7481ce809ff\">\n",
              "    <div class=\"colab-df-container\">\n",
              "      <div>\n",
              "<style scoped>\n",
              "    .dataframe tbody tr th:only-of-type {\n",
              "        vertical-align: middle;\n",
              "    }\n",
              "\n",
              "    .dataframe tbody tr th {\n",
              "        vertical-align: top;\n",
              "    }\n",
              "\n",
              "    .dataframe thead th {\n",
              "        text-align: right;\n",
              "    }\n",
              "</style>\n",
              "<table border=\"1\" class=\"dataframe\">\n",
              "  <thead>\n",
              "    <tr style=\"text-align: right;\">\n",
              "      <th></th>\n",
              "      <th>ID</th>\n",
              "      <th>q1</th>\n",
              "      <th>q2</th>\n",
              "      <th>q3</th>\n",
              "      <th>q4</th>\n",
              "      <th>q5</th>\n",
              "      <th>q6</th>\n",
              "      <th>q7</th>\n",
              "      <th>q8</th>\n",
              "      <th>q9</th>\n",
              "      <th>q10</th>\n",
              "      <th>q11</th>\n",
              "      <th>q12</th>\n",
              "    </tr>\n",
              "  </thead>\n",
              "  <tbody>\n",
              "    <tr>\n",
              "      <th>0</th>\n",
              "      <td>family_id</td>\n",
              "      <td>a casa onde a família mora é:</td>\n",
              "      <td>a água utilizada para beber neste domicílio é:</td>\n",
              "      <td>existem atividades culturais (shows, teatro, c...</td>\n",
              "      <td>existem locais para atividades esportivas para...</td>\n",
              "      <td>existem lugares públicos (praças, parques, etc...</td>\n",
              "      <td>no domicílio, existe banheiro ou sanitário?</td>\n",
              "      <td>o carro de lixo da prefeitura busca o seu lixo...</td>\n",
              "      <td>o domicílio está localizado em área de conflit...</td>\n",
              "      <td>o domicílio possui água canalizada em pelo men...</td>\n",
              "      <td>qual a forma de iluminação utilizada no domicí...</td>\n",
              "      <td>qual é a forma de abastecimento de água utiliz...</td>\n",
              "      <td>qual é o material predominante na construção d...</td>\n",
              "    </tr>\n",
              "    <tr>\n",
              "      <th>1</th>\n",
              "      <td>3</td>\n",
              "      <td>própria</td>\n",
              "      <td>sem tratamento</td>\n",
              "      <td>não</td>\n",
              "      <td>não</td>\n",
              "      <td>não</td>\n",
              "      <td>sim</td>\n",
              "      <td>de uma a duas vezes</td>\n",
              "      <td>não</td>\n",
              "      <td>sim</td>\n",
              "      <td>elétrica</td>\n",
              "      <td>rede geral de distribuição</td>\n",
              "      <td>alvenaria com revestimento</td>\n",
              "    </tr>\n",
              "    <tr>\n",
              "      <th>2</th>\n",
              "      <td>17</td>\n",
              "      <td>alugada</td>\n",
              "      <td>água mineral</td>\n",
              "      <td>não sei</td>\n",
              "      <td>não sei</td>\n",
              "      <td>não sei</td>\n",
              "      <td>sim</td>\n",
              "      <td>de uma a duas vezes</td>\n",
              "      <td>não sei</td>\n",
              "      <td>sim</td>\n",
              "      <td>elétrica</td>\n",
              "      <td>rede geral de distribuição</td>\n",
              "      <td>alvenaria com revestimento</td>\n",
              "    </tr>\n",
              "    <tr>\n",
              "      <th>3</th>\n",
              "      <td>18</td>\n",
              "      <td>emprestada/cedida</td>\n",
              "      <td>filtrada</td>\n",
              "      <td>não</td>\n",
              "      <td>não</td>\n",
              "      <td>não</td>\n",
              "      <td>sim</td>\n",
              "      <td>de uma a duas vezes</td>\n",
              "      <td>não</td>\n",
              "      <td>não</td>\n",
              "      <td>elétrica</td>\n",
              "      <td>poço ou nascente</td>\n",
              "      <td>alvenaria com revestimento</td>\n",
              "    </tr>\n",
              "    <tr>\n",
              "      <th>4</th>\n",
              "      <td>20</td>\n",
              "      <td>própria</td>\n",
              "      <td>água mineral</td>\n",
              "      <td>não</td>\n",
              "      <td>não</td>\n",
              "      <td>não</td>\n",
              "      <td>sim</td>\n",
              "      <td>mais de duas vezes</td>\n",
              "      <td>não</td>\n",
              "      <td>sim</td>\n",
              "      <td>elétrica</td>\n",
              "      <td>poço ou nascente</td>\n",
              "      <td>alvenaria com revestimento</td>\n",
              "    </tr>\n",
              "    <tr>\n",
              "      <th>...</th>\n",
              "      <td>...</td>\n",
              "      <td>...</td>\n",
              "      <td>...</td>\n",
              "      <td>...</td>\n",
              "      <td>...</td>\n",
              "      <td>...</td>\n",
              "      <td>...</td>\n",
              "      <td>...</td>\n",
              "      <td>...</td>\n",
              "      <td>...</td>\n",
              "      <td>...</td>\n",
              "      <td>...</td>\n",
              "      <td>...</td>\n",
              "    </tr>\n",
              "    <tr>\n",
              "      <th>18116</th>\n",
              "      <td>290443</td>\n",
              "      <td>própria</td>\n",
              "      <td>tratada de outra forma</td>\n",
              "      <td>sim</td>\n",
              "      <td>sim</td>\n",
              "      <td>sim</td>\n",
              "      <td>sim</td>\n",
              "      <td>de uma a duas vezes</td>\n",
              "      <td>não</td>\n",
              "      <td>sim</td>\n",
              "      <td>elétrica</td>\n",
              "      <td>rede geral de distribuição</td>\n",
              "      <td>alvenaria com revestimento</td>\n",
              "    </tr>\n",
              "    <tr>\n",
              "      <th>18117</th>\n",
              "      <td>290447</td>\n",
              "      <td>própria</td>\n",
              "      <td>tratada de outra forma</td>\n",
              "      <td>não</td>\n",
              "      <td>não</td>\n",
              "      <td>não</td>\n",
              "      <td>sim</td>\n",
              "      <td>de uma a duas vezes</td>\n",
              "      <td>não</td>\n",
              "      <td>sim</td>\n",
              "      <td>elétrica</td>\n",
              "      <td>poço ou nascente</td>\n",
              "      <td>alvenaria sem revestimento</td>\n",
              "    </tr>\n",
              "    <tr>\n",
              "      <th>18118</th>\n",
              "      <td>290452</td>\n",
              "      <td>própria</td>\n",
              "      <td>sem tratamento</td>\n",
              "      <td>não</td>\n",
              "      <td>sim</td>\n",
              "      <td>sim</td>\n",
              "      <td>sim</td>\n",
              "      <td>mais de duas vezes</td>\n",
              "      <td>sim</td>\n",
              "      <td>sim</td>\n",
              "      <td>elétrica</td>\n",
              "      <td>rede geral de distribuição</td>\n",
              "      <td>alvenaria com revestimento</td>\n",
              "    </tr>\n",
              "    <tr>\n",
              "      <th>18119</th>\n",
              "      <td>290453</td>\n",
              "      <td>própria</td>\n",
              "      <td>sem tratamento</td>\n",
              "      <td>não</td>\n",
              "      <td>não</td>\n",
              "      <td>não</td>\n",
              "      <td>sim</td>\n",
              "      <td>de uma a duas vezes</td>\n",
              "      <td>não</td>\n",
              "      <td>sim</td>\n",
              "      <td>elétrica</td>\n",
              "      <td>rede geral de distribuição</td>\n",
              "      <td>alvenaria com revestimento</td>\n",
              "    </tr>\n",
              "    <tr>\n",
              "      <th>18120</th>\n",
              "      <td>290466</td>\n",
              "      <td>própria</td>\n",
              "      <td>sem tratamento</td>\n",
              "      <td>não</td>\n",
              "      <td>não</td>\n",
              "      <td>não</td>\n",
              "      <td>sim</td>\n",
              "      <td>nenhuma vez</td>\n",
              "      <td>não sei</td>\n",
              "      <td>não</td>\n",
              "      <td>elétrica</td>\n",
              "      <td>poço ou nascente</td>\n",
              "      <td>alvenaria com revestimento</td>\n",
              "    </tr>\n",
              "  </tbody>\n",
              "</table>\n",
              "<p>18121 rows × 13 columns</p>\n",
              "</div>\n",
              "      <button class=\"colab-df-convert\" onclick=\"convertToInteractive('df-d4d1acc7-7174-44fe-910e-d7481ce809ff')\"\n",
              "              title=\"Convert this dataframe to an interactive table.\"\n",
              "              style=\"display:none;\">\n",
              "        \n",
              "  <svg xmlns=\"http://www.w3.org/2000/svg\" height=\"24px\"viewBox=\"0 0 24 24\"\n",
              "       width=\"24px\">\n",
              "    <path d=\"M0 0h24v24H0V0z\" fill=\"none\"/>\n",
              "    <path d=\"M18.56 5.44l.94 2.06.94-2.06 2.06-.94-2.06-.94-.94-2.06-.94 2.06-2.06.94zm-11 1L8.5 8.5l.94-2.06 2.06-.94-2.06-.94L8.5 2.5l-.94 2.06-2.06.94zm10 10l.94 2.06.94-2.06 2.06-.94-2.06-.94-.94-2.06-.94 2.06-2.06.94z\"/><path d=\"M17.41 7.96l-1.37-1.37c-.4-.4-.92-.59-1.43-.59-.52 0-1.04.2-1.43.59L10.3 9.45l-7.72 7.72c-.78.78-.78 2.05 0 2.83L4 21.41c.39.39.9.59 1.41.59.51 0 1.02-.2 1.41-.59l7.78-7.78 2.81-2.81c.8-.78.8-2.07 0-2.86zM5.41 20L4 18.59l7.72-7.72 1.47 1.35L5.41 20z\"/>\n",
              "  </svg>\n",
              "      </button>\n",
              "      \n",
              "  <style>\n",
              "    .colab-df-container {\n",
              "      display:flex;\n",
              "      flex-wrap:wrap;\n",
              "      gap: 12px;\n",
              "    }\n",
              "\n",
              "    .colab-df-convert {\n",
              "      background-color: #E8F0FE;\n",
              "      border: none;\n",
              "      border-radius: 50%;\n",
              "      cursor: pointer;\n",
              "      display: none;\n",
              "      fill: #1967D2;\n",
              "      height: 32px;\n",
              "      padding: 0 0 0 0;\n",
              "      width: 32px;\n",
              "    }\n",
              "\n",
              "    .colab-df-convert:hover {\n",
              "      background-color: #E2EBFA;\n",
              "      box-shadow: 0px 1px 2px rgba(60, 64, 67, 0.3), 0px 1px 3px 1px rgba(60, 64, 67, 0.15);\n",
              "      fill: #174EA6;\n",
              "    }\n",
              "\n",
              "    [theme=dark] .colab-df-convert {\n",
              "      background-color: #3B4455;\n",
              "      fill: #D2E3FC;\n",
              "    }\n",
              "\n",
              "    [theme=dark] .colab-df-convert:hover {\n",
              "      background-color: #434B5C;\n",
              "      box-shadow: 0px 1px 3px 1px rgba(0, 0, 0, 0.15);\n",
              "      filter: drop-shadow(0px 1px 2px rgba(0, 0, 0, 0.3));\n",
              "      fill: #FFFFFF;\n",
              "    }\n",
              "  </style>\n",
              "\n",
              "      <script>\n",
              "        const buttonEl =\n",
              "          document.querySelector('#df-d4d1acc7-7174-44fe-910e-d7481ce809ff button.colab-df-convert');\n",
              "        buttonEl.style.display =\n",
              "          google.colab.kernel.accessAllowed ? 'block' : 'none';\n",
              "\n",
              "        async function convertToInteractive(key) {\n",
              "          const element = document.querySelector('#df-d4d1acc7-7174-44fe-910e-d7481ce809ff');\n",
              "          const dataTable =\n",
              "            await google.colab.kernel.invokeFunction('convertToInteractive',\n",
              "                                                     [key], {});\n",
              "          if (!dataTable) return;\n",
              "\n",
              "          const docLinkHtml = 'Like what you see? Visit the ' +\n",
              "            '<a target=\"_blank\" href=https://colab.research.google.com/notebooks/data_table.ipynb>data table notebook</a>'\n",
              "            + ' to learn more about interactive tables.';\n",
              "          element.innerHTML = '';\n",
              "          dataTable['output_type'] = 'display_data';\n",
              "          await google.colab.output.renderOutput(dataTable, element);\n",
              "          const docLink = document.createElement('div');\n",
              "          docLink.innerHTML = docLinkHtml;\n",
              "          element.appendChild(docLink);\n",
              "        }\n",
              "      </script>\n",
              "    </div>\n",
              "  </div>\n",
              "  "
            ],
            "text/plain": [
              "              ID  ...                                                q12\n",
              "0      family_id  ...  qual é o material predominante na construção d...\n",
              "1              3  ...                         alvenaria com revestimento\n",
              "2             17  ...                         alvenaria com revestimento\n",
              "3             18  ...                         alvenaria com revestimento\n",
              "4             20  ...                         alvenaria com revestimento\n",
              "...          ...  ...                                                ...\n",
              "18116     290443  ...                         alvenaria com revestimento\n",
              "18117     290447  ...                         alvenaria sem revestimento\n",
              "18118     290452  ...                         alvenaria com revestimento\n",
              "18119     290453  ...                         alvenaria com revestimento\n",
              "18120     290466  ...                         alvenaria com revestimento\n",
              "\n",
              "[18121 rows x 13 columns]"
            ]
          },
          "metadata": {},
          "execution_count": 10
        }
      ],
      "source": [
        "data.to_csv(\"/content/drive/MyDrive/vulnerabilidadeResidence/questions_cleaned.csv\",index=False)\n",
        "data"
      ]
    },
    {
      "cell_type": "markdown",
      "source": [
        "#Coletando todas as possibilidades de resposta"
      ],
      "metadata": {
        "id": "kHz9QNq3S4rO"
      }
    },
    {
      "cell_type": "code",
      "execution_count": 11,
      "metadata": {
        "colab": {
          "base_uri": "https://localhost:8080/"
        },
        "id": "373YC8YMRpbx",
        "outputId": "406e9936-6fb7-423c-96df-85a0f188d28d"
      },
      "outputs": [
        {
          "output_type": "execute_result",
          "data": {
            "text/plain": [
              "array(['a casa onde a família mora é:', 'própria', 'alugada',\n",
              "       'emprestada/cedida', 'emprestada/ cedida'], dtype=object)"
            ]
          },
          "metadata": {},
          "execution_count": 11
        }
      ],
      "source": [
        "data.q1.unique()"
      ]
    },
    {
      "cell_type": "code",
      "execution_count": 12,
      "metadata": {
        "colab": {
          "base_uri": "https://localhost:8080/"
        },
        "id": "iA29egOGRpby",
        "outputId": "df9f00b6-0606-404f-a330-576f9d38efff"
      },
      "outputs": [
        {
          "output_type": "execute_result",
          "data": {
            "text/plain": [
              "array(['a água utilizada para beber neste domicílio é:', 'sem tratamento',\n",
              "       'água mineral', 'filtrada', 'tratada de outra forma', 'fervida'],\n",
              "      dtype=object)"
            ]
          },
          "metadata": {},
          "execution_count": 12
        }
      ],
      "source": [
        "data.q2.unique()"
      ]
    },
    {
      "cell_type": "code",
      "execution_count": 13,
      "metadata": {
        "colab": {
          "base_uri": "https://localhost:8080/"
        },
        "id": "I3lfCCl-Rpbz",
        "outputId": "ccb3a518-7b31-4863-c920-d0ac158ed303"
      },
      "outputs": [
        {
          "output_type": "execute_result",
          "data": {
            "text/plain": [
              "array(['existem atividades culturais (shows, teatro, cinema, bale, dança, etc) para crianças, jovens e adolescentes próximo a sua casa?',\n",
              "       'não', 'não sei', 'sim'], dtype=object)"
            ]
          },
          "metadata": {},
          "execution_count": 13
        }
      ],
      "source": [
        "data.q3.unique()"
      ]
    },
    {
      "cell_type": "code",
      "execution_count": 14,
      "metadata": {
        "colab": {
          "base_uri": "https://localhost:8080/"
        },
        "id": "WGE6i8ZtRpbz",
        "outputId": "b4331d92-6619-4ee9-b722-3536c5d71a5f"
      },
      "outputs": [
        {
          "output_type": "execute_result",
          "data": {
            "text/plain": [
              "array(['existem locais para atividades esportivas para crianças, jovens e adolescentes próximo a sua casa? (quadra de futebol, areninha, pista de skate, academia ao ar livre, etc)?',\n",
              "       'não', 'não sei', 'sim'], dtype=object)"
            ]
          },
          "metadata": {},
          "execution_count": 14
        }
      ],
      "source": [
        "data.q4.unique()"
      ]
    },
    {
      "cell_type": "code",
      "execution_count": 15,
      "metadata": {
        "colab": {
          "base_uri": "https://localhost:8080/"
        },
        "id": "FoaMYTXmRpb0",
        "outputId": "4c935782-f4dc-4d58-80df-a23c2cf9797b"
      },
      "outputs": [
        {
          "output_type": "execute_result",
          "data": {
            "text/plain": [
              "array(['existem lugares públicos (praças, parques, etc) para as crianças brincarem próximo a sua casa?',\n",
              "       'não', 'não sei', 'sim'], dtype=object)"
            ]
          },
          "metadata": {},
          "execution_count": 15
        }
      ],
      "source": [
        "data.q5.unique()"
      ]
    },
    {
      "cell_type": "code",
      "execution_count": 16,
      "metadata": {
        "colab": {
          "base_uri": "https://localhost:8080/"
        },
        "id": "BLSs9lEORpb0",
        "outputId": "108df40a-eb82-4b94-aa1c-4cb61fc6d968"
      },
      "outputs": [
        {
          "output_type": "execute_result",
          "data": {
            "text/plain": [
              "array(['no domicílio, existe banheiro ou sanitário?', 'sim', 'não'],\n",
              "      dtype=object)"
            ]
          },
          "metadata": {},
          "execution_count": 16
        }
      ],
      "source": [
        "data.q6.unique()"
      ]
    },
    {
      "cell_type": "code",
      "execution_count": 17,
      "metadata": {
        "colab": {
          "base_uri": "https://localhost:8080/"
        },
        "id": "9Kwq3SbCRpb0",
        "outputId": "a9f72f66-42bd-41ee-b8ed-abcdd693af79"
      },
      "outputs": [
        {
          "output_type": "execute_result",
          "data": {
            "text/plain": [
              "array(['o carro de lixo da prefeitura busca o seu lixo quantas vezes por semana?',\n",
              "       'de uma a duas vezes', 'mais de duas vezes', 'nenhuma vez'],\n",
              "      dtype=object)"
            ]
          },
          "metadata": {},
          "execution_count": 17
        }
      ],
      "source": [
        "data.q7.unique()"
      ]
    },
    {
      "cell_type": "code",
      "execution_count": 18,
      "metadata": {
        "colab": {
          "base_uri": "https://localhost:8080/"
        },
        "id": "BpBikrAbRpb1",
        "outputId": "699cb946-ded9-4e47-d10a-bf541463af63"
      },
      "outputs": [
        {
          "output_type": "execute_result",
          "data": {
            "text/plain": [
              "array(['o domicílio está localizado em área de conflito/violência?',\n",
              "       'não', 'não sei', 'sim'], dtype=object)"
            ]
          },
          "metadata": {},
          "execution_count": 18
        }
      ],
      "source": [
        "data.q8.unique()"
      ]
    },
    {
      "cell_type": "code",
      "execution_count": 19,
      "metadata": {
        "colab": {
          "base_uri": "https://localhost:8080/"
        },
        "id": "MoVwWYKDRpb1",
        "outputId": "e76e5173-2ae2-48bd-981f-ba249e87b354"
      },
      "outputs": [
        {
          "output_type": "execute_result",
          "data": {
            "text/plain": [
              "array(['o domicílio possui água canalizada em pelo menos um cômodo?',\n",
              "       'sim', 'não'], dtype=object)"
            ]
          },
          "metadata": {},
          "execution_count": 19
        }
      ],
      "source": [
        "data.q9.unique()"
      ]
    },
    {
      "cell_type": "code",
      "source": [
        "data.q10.unique()"
      ],
      "metadata": {
        "colab": {
          "base_uri": "https://localhost:8080/"
        },
        "id": "32nLZ19xnLuW",
        "outputId": "e745185a-674e-4185-9c40-cbfc4bcdc5cc"
      },
      "execution_count": 20,
      "outputs": [
        {
          "output_type": "execute_result",
          "data": {
            "text/plain": [
              "array(['qual a forma de iluminação utilizada no domicílio? (marque o mais utilizado)',\n",
              "       'elétrica', 'outra', 'óleo, querosene ou gás', 'vela'],\n",
              "      dtype=object)"
            ]
          },
          "metadata": {},
          "execution_count": 20
        }
      ]
    },
    {
      "cell_type": "code",
      "source": [
        "data.q11.unique()"
      ],
      "metadata": {
        "colab": {
          "base_uri": "https://localhost:8080/"
        },
        "id": "D3nYrrfanOjb",
        "outputId": "25e3d136-d062-4f8f-fd6b-c8659a522a0f"
      },
      "execution_count": 21,
      "outputs": [
        {
          "output_type": "execute_result",
          "data": {
            "text/plain": [
              "array(['qual é a forma de abastecimento de água utilizada no domicílio?',\n",
              "       'rede geral de distribuição', 'poço ou nascente', 'outra forma',\n",
              "       'cisterna', 'não sei'], dtype=object)"
            ]
          },
          "metadata": {},
          "execution_count": 21
        }
      ]
    },
    {
      "cell_type": "code",
      "source": [
        "data.q12.unique()"
      ],
      "metadata": {
        "colab": {
          "base_uri": "https://localhost:8080/"
        },
        "id": "CA5royfEnXJ-",
        "outputId": "ef00fc59-e537-4a8f-ffd0-6b52c0e4c7a6"
      },
      "execution_count": 22,
      "outputs": [
        {
          "output_type": "execute_result",
          "data": {
            "text/plain": [
              "array(['qual é o material predominante na construção das paredes externas no domicílio?',\n",
              "       'alvenaria com revestimento', 'alvenaria sem revestimento',\n",
              "       'taipa revestida', 'outro', 'taipa não revestida',\n",
              "       'madeira aproveitada', 'palha'], dtype=object)"
            ]
          },
          "metadata": {},
          "execution_count": 22
        }
      ]
    },
    {
      "cell_type": "markdown",
      "metadata": {
        "id": "u8vamD2XRpb2"
      },
      "source": [
        "# Converte respostas para 0 ou 1\n",
        "### Observação: Nem todas as questões puderam ser resumidas para 0/1 tão claramente, assim para uma melhor visualização algumas colunas tiveram seus atributos reduzidos para tópicos chaves."
      ]
    },
    {
      "cell_type": "markdown",
      "metadata": {
        "id": "a44RwdZ3Rpb3"
      },
      "source": [
        "# Todas as famílias responderam 100% das perguntas"
      ]
    },
    {
      "cell_type": "code",
      "execution_count": 24,
      "metadata": {
        "colab": {
          "base_uri": "https://localhost:8080/"
        },
        "id": "KEJhLKdvRpb3",
        "outputId": "6aee60ca-3040-4cb8-b539-a6dcfea391e1"
      },
      "outputs": [
        {
          "output_type": "stream",
          "name": "stdout",
          "text": [
            "Before dropna: 18121\n",
            "After dropna: 18121\n",
            "Total of 0 have been dropped!\n"
          ]
        }
      ],
      "source": [
        "len_before = len(data)\n",
        "print(f\"Before dropna: {len_before}\")\n",
        "data = data.dropna()\n",
        "len_later = len(data)\n",
        "print(f\"After dropna: {len_later}\")\n",
        "print(f\"Total of {len_before - len_later} have been dropped!\")"
      ]
    },
    {
      "cell_type": "markdown",
      "source": [
        "#Questões de Sim/Não Padrão "
      ],
      "metadata": {
        "id": "FC7s5zXg9P_k"
      }
    },
    {
      "cell_type": "code",
      "execution_count": 57,
      "metadata": {
        "colab": {
          "base_uri": "https://localhost:8080/"
        },
        "id": "X3ehygnhRpb4",
        "outputId": "37297c76-a446-4f32-e50c-c35898cb6e22"
      },
      "outputs": [
        {
          "output_type": "stream",
          "name": "stdout",
          "text": [
            "Quantidade de casas com banheiro ou sanitário é:  15534 \n",
            "Quantidade de casas que não têm banheiro ou sanitário é:  2587\n",
            "\n",
            "=-=-=-=-=-=-=-=-=-=-=-=-=-=-=-=-=-=-=-=-=-=-=-=-=-=-=-=-=-=-=-=-=-=-\n",
            "\n",
            "Quantidade de casas com água canalizada é:  12929 \n",
            "Quantidade de casas que não têm água canalizada  é:  5192\n"
          ]
        }
      ],
      "source": [
        "bathroomT = 0 #Em quantas casas há banheiro ou sanitário\n",
        "bathroomF = 0 #Em quantas casas não há banheiro ou sanitário\n",
        "pipedWaterT = 0 #Em quantas casas há água canalizada\n",
        "pipedWaterF = 0 #Em quantas casas não há água canalizada\n",
        "\n",
        "#questão 6\n",
        "for x in data['q6']:\n",
        "    if x == 'sim': \n",
        "        bathroomT += 1\n",
        "    else: bathroomF += 1\n",
        "\n",
        "#questão 9 \n",
        "for y in data['q9']:\n",
        "    if y == 'sim': \n",
        "        pipedWaterT += 1\n",
        "    else: pipedWaterF += 1\n",
        "\n",
        "print('Quantidade de casas com banheiro ou sanitário é: ', bathroomT, '\\nQuantidade de casas que não têm banheiro ou sanitário é: ', bathroomF)\n",
        "print('\\n=-=-=-=-=-=-=-=-=-=-=-=-=-=-=-=-=-=-=-=-=-=-=-=-=-=-=-=-=-=-=-=-=-=-\\n')\n",
        "print('Quantidade de casas com água canalizada é: ', pipedWaterT, '\\nQuantidade de casas que não têm água canalizada  é: ', pipedWaterF)"
      ]
    },
    {
      "cell_type": "code",
      "source": [
        "data"
      ],
      "metadata": {
        "colab": {
          "base_uri": "https://localhost:8080/",
          "height": 710
        },
        "id": "LbUkhlTY2srV",
        "outputId": "24f38194-4b4a-46ad-9997-26dc4258b8a1"
      },
      "execution_count": 29,
      "outputs": [
        {
          "output_type": "execute_result",
          "data": {
            "text/html": [
              "\n",
              "  <div id=\"df-4c16a316-c9f4-4238-9365-609c0becb8fa\">\n",
              "    <div class=\"colab-df-container\">\n",
              "      <div>\n",
              "<style scoped>\n",
              "    .dataframe tbody tr th:only-of-type {\n",
              "        vertical-align: middle;\n",
              "    }\n",
              "\n",
              "    .dataframe tbody tr th {\n",
              "        vertical-align: top;\n",
              "    }\n",
              "\n",
              "    .dataframe thead th {\n",
              "        text-align: right;\n",
              "    }\n",
              "</style>\n",
              "<table border=\"1\" class=\"dataframe\">\n",
              "  <thead>\n",
              "    <tr style=\"text-align: right;\">\n",
              "      <th></th>\n",
              "      <th>ID</th>\n",
              "      <th>q1</th>\n",
              "      <th>q2</th>\n",
              "      <th>q3</th>\n",
              "      <th>q4</th>\n",
              "      <th>q5</th>\n",
              "      <th>q6</th>\n",
              "      <th>q7</th>\n",
              "      <th>q8</th>\n",
              "      <th>q9</th>\n",
              "      <th>q10</th>\n",
              "      <th>q11</th>\n",
              "      <th>q12</th>\n",
              "    </tr>\n",
              "  </thead>\n",
              "  <tbody>\n",
              "    <tr>\n",
              "      <th>0</th>\n",
              "      <td>family_id</td>\n",
              "      <td>a casa onde a família mora é:</td>\n",
              "      <td>a água utilizada para beber neste domicílio é:</td>\n",
              "      <td>existem atividades culturais (shows, teatro, c...</td>\n",
              "      <td>existem locais para atividades esportivas para...</td>\n",
              "      <td>existem lugares públicos (praças, parques, etc...</td>\n",
              "      <td>no domicílio, existe banheiro ou sanitário?</td>\n",
              "      <td>o carro de lixo da prefeitura busca o seu lixo...</td>\n",
              "      <td>o domicílio está localizado em área de conflit...</td>\n",
              "      <td>o domicílio possui água canalizada em pelo men...</td>\n",
              "      <td>qual a forma de iluminação utilizada no domicí...</td>\n",
              "      <td>qual é a forma de abastecimento de água utiliz...</td>\n",
              "      <td>qual é o material predominante na construção d...</td>\n",
              "    </tr>\n",
              "    <tr>\n",
              "      <th>1</th>\n",
              "      <td>3</td>\n",
              "      <td>própria</td>\n",
              "      <td>sem tratamento</td>\n",
              "      <td>não</td>\n",
              "      <td>não</td>\n",
              "      <td>não</td>\n",
              "      <td>sim</td>\n",
              "      <td>de uma a duas vezes</td>\n",
              "      <td>não</td>\n",
              "      <td>sim</td>\n",
              "      <td>elétrica</td>\n",
              "      <td>rede geral de distribuição</td>\n",
              "      <td>alvenaria com revestimento</td>\n",
              "    </tr>\n",
              "    <tr>\n",
              "      <th>2</th>\n",
              "      <td>17</td>\n",
              "      <td>alugada</td>\n",
              "      <td>água mineral</td>\n",
              "      <td>não sei</td>\n",
              "      <td>não sei</td>\n",
              "      <td>não sei</td>\n",
              "      <td>sim</td>\n",
              "      <td>de uma a duas vezes</td>\n",
              "      <td>não sei</td>\n",
              "      <td>sim</td>\n",
              "      <td>elétrica</td>\n",
              "      <td>rede geral de distribuição</td>\n",
              "      <td>alvenaria com revestimento</td>\n",
              "    </tr>\n",
              "    <tr>\n",
              "      <th>3</th>\n",
              "      <td>18</td>\n",
              "      <td>emprestada/cedida</td>\n",
              "      <td>filtrada</td>\n",
              "      <td>não</td>\n",
              "      <td>não</td>\n",
              "      <td>não</td>\n",
              "      <td>sim</td>\n",
              "      <td>de uma a duas vezes</td>\n",
              "      <td>não</td>\n",
              "      <td>não</td>\n",
              "      <td>elétrica</td>\n",
              "      <td>poço ou nascente</td>\n",
              "      <td>alvenaria com revestimento</td>\n",
              "    </tr>\n",
              "    <tr>\n",
              "      <th>4</th>\n",
              "      <td>20</td>\n",
              "      <td>própria</td>\n",
              "      <td>água mineral</td>\n",
              "      <td>não</td>\n",
              "      <td>não</td>\n",
              "      <td>não</td>\n",
              "      <td>sim</td>\n",
              "      <td>mais de duas vezes</td>\n",
              "      <td>não</td>\n",
              "      <td>sim</td>\n",
              "      <td>elétrica</td>\n",
              "      <td>poço ou nascente</td>\n",
              "      <td>alvenaria com revestimento</td>\n",
              "    </tr>\n",
              "    <tr>\n",
              "      <th>...</th>\n",
              "      <td>...</td>\n",
              "      <td>...</td>\n",
              "      <td>...</td>\n",
              "      <td>...</td>\n",
              "      <td>...</td>\n",
              "      <td>...</td>\n",
              "      <td>...</td>\n",
              "      <td>...</td>\n",
              "      <td>...</td>\n",
              "      <td>...</td>\n",
              "      <td>...</td>\n",
              "      <td>...</td>\n",
              "      <td>...</td>\n",
              "    </tr>\n",
              "    <tr>\n",
              "      <th>18116</th>\n",
              "      <td>290443</td>\n",
              "      <td>própria</td>\n",
              "      <td>tratada de outra forma</td>\n",
              "      <td>sim</td>\n",
              "      <td>sim</td>\n",
              "      <td>sim</td>\n",
              "      <td>sim</td>\n",
              "      <td>de uma a duas vezes</td>\n",
              "      <td>não</td>\n",
              "      <td>sim</td>\n",
              "      <td>elétrica</td>\n",
              "      <td>rede geral de distribuição</td>\n",
              "      <td>alvenaria com revestimento</td>\n",
              "    </tr>\n",
              "    <tr>\n",
              "      <th>18117</th>\n",
              "      <td>290447</td>\n",
              "      <td>própria</td>\n",
              "      <td>tratada de outra forma</td>\n",
              "      <td>não</td>\n",
              "      <td>não</td>\n",
              "      <td>não</td>\n",
              "      <td>sim</td>\n",
              "      <td>de uma a duas vezes</td>\n",
              "      <td>não</td>\n",
              "      <td>sim</td>\n",
              "      <td>elétrica</td>\n",
              "      <td>poço ou nascente</td>\n",
              "      <td>alvenaria sem revestimento</td>\n",
              "    </tr>\n",
              "    <tr>\n",
              "      <th>18118</th>\n",
              "      <td>290452</td>\n",
              "      <td>própria</td>\n",
              "      <td>sem tratamento</td>\n",
              "      <td>não</td>\n",
              "      <td>sim</td>\n",
              "      <td>sim</td>\n",
              "      <td>sim</td>\n",
              "      <td>mais de duas vezes</td>\n",
              "      <td>sim</td>\n",
              "      <td>sim</td>\n",
              "      <td>elétrica</td>\n",
              "      <td>rede geral de distribuição</td>\n",
              "      <td>alvenaria com revestimento</td>\n",
              "    </tr>\n",
              "    <tr>\n",
              "      <th>18119</th>\n",
              "      <td>290453</td>\n",
              "      <td>própria</td>\n",
              "      <td>sem tratamento</td>\n",
              "      <td>não</td>\n",
              "      <td>não</td>\n",
              "      <td>não</td>\n",
              "      <td>sim</td>\n",
              "      <td>de uma a duas vezes</td>\n",
              "      <td>não</td>\n",
              "      <td>sim</td>\n",
              "      <td>elétrica</td>\n",
              "      <td>rede geral de distribuição</td>\n",
              "      <td>alvenaria com revestimento</td>\n",
              "    </tr>\n",
              "    <tr>\n",
              "      <th>18120</th>\n",
              "      <td>290466</td>\n",
              "      <td>própria</td>\n",
              "      <td>sem tratamento</td>\n",
              "      <td>não</td>\n",
              "      <td>não</td>\n",
              "      <td>não</td>\n",
              "      <td>sim</td>\n",
              "      <td>nenhuma vez</td>\n",
              "      <td>não sei</td>\n",
              "      <td>não</td>\n",
              "      <td>elétrica</td>\n",
              "      <td>poço ou nascente</td>\n",
              "      <td>alvenaria com revestimento</td>\n",
              "    </tr>\n",
              "  </tbody>\n",
              "</table>\n",
              "<p>18121 rows × 13 columns</p>\n",
              "</div>\n",
              "      <button class=\"colab-df-convert\" onclick=\"convertToInteractive('df-4c16a316-c9f4-4238-9365-609c0becb8fa')\"\n",
              "              title=\"Convert this dataframe to an interactive table.\"\n",
              "              style=\"display:none;\">\n",
              "        \n",
              "  <svg xmlns=\"http://www.w3.org/2000/svg\" height=\"24px\"viewBox=\"0 0 24 24\"\n",
              "       width=\"24px\">\n",
              "    <path d=\"M0 0h24v24H0V0z\" fill=\"none\"/>\n",
              "    <path d=\"M18.56 5.44l.94 2.06.94-2.06 2.06-.94-2.06-.94-.94-2.06-.94 2.06-2.06.94zm-11 1L8.5 8.5l.94-2.06 2.06-.94-2.06-.94L8.5 2.5l-.94 2.06-2.06.94zm10 10l.94 2.06.94-2.06 2.06-.94-2.06-.94-.94-2.06-.94 2.06-2.06.94z\"/><path d=\"M17.41 7.96l-1.37-1.37c-.4-.4-.92-.59-1.43-.59-.52 0-1.04.2-1.43.59L10.3 9.45l-7.72 7.72c-.78.78-.78 2.05 0 2.83L4 21.41c.39.39.9.59 1.41.59.51 0 1.02-.2 1.41-.59l7.78-7.78 2.81-2.81c.8-.78.8-2.07 0-2.86zM5.41 20L4 18.59l7.72-7.72 1.47 1.35L5.41 20z\"/>\n",
              "  </svg>\n",
              "      </button>\n",
              "      \n",
              "  <style>\n",
              "    .colab-df-container {\n",
              "      display:flex;\n",
              "      flex-wrap:wrap;\n",
              "      gap: 12px;\n",
              "    }\n",
              "\n",
              "    .colab-df-convert {\n",
              "      background-color: #E8F0FE;\n",
              "      border: none;\n",
              "      border-radius: 50%;\n",
              "      cursor: pointer;\n",
              "      display: none;\n",
              "      fill: #1967D2;\n",
              "      height: 32px;\n",
              "      padding: 0 0 0 0;\n",
              "      width: 32px;\n",
              "    }\n",
              "\n",
              "    .colab-df-convert:hover {\n",
              "      background-color: #E2EBFA;\n",
              "      box-shadow: 0px 1px 2px rgba(60, 64, 67, 0.3), 0px 1px 3px 1px rgba(60, 64, 67, 0.15);\n",
              "      fill: #174EA6;\n",
              "    }\n",
              "\n",
              "    [theme=dark] .colab-df-convert {\n",
              "      background-color: #3B4455;\n",
              "      fill: #D2E3FC;\n",
              "    }\n",
              "\n",
              "    [theme=dark] .colab-df-convert:hover {\n",
              "      background-color: #434B5C;\n",
              "      box-shadow: 0px 1px 3px 1px rgba(0, 0, 0, 0.15);\n",
              "      filter: drop-shadow(0px 1px 2px rgba(0, 0, 0, 0.3));\n",
              "      fill: #FFFFFF;\n",
              "    }\n",
              "  </style>\n",
              "\n",
              "      <script>\n",
              "        const buttonEl =\n",
              "          document.querySelector('#df-4c16a316-c9f4-4238-9365-609c0becb8fa button.colab-df-convert');\n",
              "        buttonEl.style.display =\n",
              "          google.colab.kernel.accessAllowed ? 'block' : 'none';\n",
              "\n",
              "        async function convertToInteractive(key) {\n",
              "          const element = document.querySelector('#df-4c16a316-c9f4-4238-9365-609c0becb8fa');\n",
              "          const dataTable =\n",
              "            await google.colab.kernel.invokeFunction('convertToInteractive',\n",
              "                                                     [key], {});\n",
              "          if (!dataTable) return;\n",
              "\n",
              "          const docLinkHtml = 'Like what you see? Visit the ' +\n",
              "            '<a target=\"_blank\" href=https://colab.research.google.com/notebooks/data_table.ipynb>data table notebook</a>'\n",
              "            + ' to learn more about interactive tables.';\n",
              "          element.innerHTML = '';\n",
              "          dataTable['output_type'] = 'display_data';\n",
              "          await google.colab.output.renderOutput(dataTable, element);\n",
              "          const docLink = document.createElement('div');\n",
              "          docLink.innerHTML = docLinkHtml;\n",
              "          element.appendChild(docLink);\n",
              "        }\n",
              "      </script>\n",
              "    </div>\n",
              "  </div>\n",
              "  "
            ],
            "text/plain": [
              "              ID  ...                                                q12\n",
              "0      family_id  ...  qual é o material predominante na construção d...\n",
              "1              3  ...                         alvenaria com revestimento\n",
              "2             17  ...                         alvenaria com revestimento\n",
              "3             18  ...                         alvenaria com revestimento\n",
              "4             20  ...                         alvenaria com revestimento\n",
              "...          ...  ...                                                ...\n",
              "18116     290443  ...                         alvenaria com revestimento\n",
              "18117     290447  ...                         alvenaria sem revestimento\n",
              "18118     290452  ...                         alvenaria com revestimento\n",
              "18119     290453  ...                         alvenaria com revestimento\n",
              "18120     290466  ...                         alvenaria com revestimento\n",
              "\n",
              "[18121 rows x 13 columns]"
            ]
          },
          "metadata": {},
          "execution_count": 29
        }
      ]
    },
    {
      "cell_type": "markdown",
      "source": [
        "#Questões de Sim/Não adaptadas"
      ],
      "metadata": {
        "id": "yrWfbaw6BeRd"
      }
    },
    {
      "cell_type": "code",
      "source": [
        "ownHouse = 0\n",
        "notOwnHouse = 0\n",
        "\n",
        "tratada = 0\n",
        "naoTratada = 0\n",
        "\n",
        "culturalSpaceT = 0\n",
        "culturalSpaceF = 0\n",
        "culturalSpaceUnknow = 0\n",
        "\n",
        "sportsSpaceT = 0\n",
        "sportsSpaceF = 0\n",
        "sportsSpaceUnknow = 0\n",
        "\n",
        "publicSpaceT = 0\n",
        "publicSpaceF = 0\n",
        "publicSpaceUnknow = 0\n",
        "\n",
        "conflictAreaT = 0\n",
        "conflictAreaF = 0\n",
        "conflictAreaUnknow = 0\n",
        "\n",
        "trashCleanT = 0\n",
        "trashCleanF = 0\n",
        "\n",
        "eletricLightT = 0\n",
        "eletricLightF = 0\n",
        "\n",
        "normalDistributionT = 0\n",
        "normalDistributionF = 0\n",
        "normalDistributionUnknow = 0\n",
        "\n",
        "\n",
        "masonryHouseT = 0\n",
        "masonryHouseF = 0\n",
        "\n",
        "#questão 1 \n",
        "for i in data['q1']:\n",
        "    if i =='própria':\n",
        "        ownHouse += 1\n",
        "    else: notOwnHouse += 1\n",
        "\n",
        "#questão 2\n",
        "for j in data['q2']:\n",
        "    if j == 'sem tratamento':\n",
        "        naoTratada += 1\n",
        "    else: tratada += 1\n",
        "\n",
        "\n",
        "#Realizar separação dessas perguntas \n",
        "#questão 3, 4, 5, 8 \n",
        "cols = [3, 4, 5, 8]\n",
        "for a in cols:\n",
        "    for b in data[f'q{a}']:\n",
        "        if b == 'sim':\n",
        "            \n",
        "            \n",
        "            \n",
        "            conflictAreaT += 1\n",
        "        if b == 'não sei':\n",
        "            \n",
        "            \n",
        "            publicSpaceUnknow += 1\n",
        "            conflictAreaUnknow += 1            \n",
        "        else: \n",
        "            \n",
        "            \n",
        "            publicSpaceF += 1\n",
        "            conflictAreaUnknow += 1\n",
        "\n",
        "for t in data['q3']:\n",
        "    if t == 'sim':\n",
        "        culturalSpaceT += 1\n",
        "    if t == 'não sei':\n",
        "        culturalSpaceUnknow += 1\n",
        "    else:\n",
        "        culturalSpaceF += 1\n",
        "\n",
        "for v in data['q4']:\n",
        "    if t == 'sim':\n",
        "        sportsSpaceT += 1\n",
        "    if t == 'não sei':\n",
        "        sportsSpaceUnknow += 1\n",
        "    else:\n",
        "        sportsSpaceF += 1\n",
        "\n",
        "for h in data['q5']:\n",
        "    if h == 'sim':\n",
        "        publicSpaceT += 1\n",
        "    if h == 'não sei':\n",
        "        publicSpaceUnknow += 1\n",
        "    else: publicSpaceF\n",
        "\n",
        "\n",
        "#questão 7\n",
        "for p in data['q7']:\n",
        "    if p == 'nenhuma vez':\n",
        "        trashCleanF += 1\n",
        "    else: trashCleanT += 1\n",
        "\n",
        "#questão 10\n",
        "for g in data['q10']:\n",
        "    if g == 'elétrica':\n",
        "        eletricLightT += 1\n",
        "    else: eletricLightF += 1\n",
        "\n",
        "#questão 11\n",
        "for e in data['q11']:\n",
        "    if e == 'rede geral de distribuição':\n",
        "        normalDistributionT += 1\n",
        "    if e == 'não sei':\n",
        "        normalDistributionUnknow += 1\n",
        "    else: \n",
        "        normalDistributionF += 1\n",
        "\n",
        "#questão 12\n",
        "for u in data['q12']:\n",
        "    if u == 'alvenaria com revestimento' or u == 'alvenaria sem revestimento':\n",
        "        masonryHouseT += 1\n",
        "    else: masonryHouseF = 1\n",
        "\n",
        "\n",
        "\n",
        "\n",
        "print('Quantidade de famílias com casa própria é: ', ownHouse, '\\nQuantidade de famílias sem casa própria é: ', notOwnHouse)\n",
        "print('\\n=-=-=-=-=-=-=-=-=-=-=-=-=-=-=-=-=-=-=-=-=-=-=-=-=-=-=-=-=-=-=-=-=-=-\\n')\n",
        "print('Quantidade de famílias com água tratada é: ', tratada, '\\nQuantidade de famílias sem água tratada é: ', naoTratada)\n",
        "print('\\n=-=-=-=-=-=-=-=-=-=-=-=-=-=-=-=-=-=-=-=-=-=-=-=-=-=-=-=-=-=-=-=-=-=-\\n')\n",
        "print('Quantidade de famílias com acesso a atividades culturais é: ', culturalSpaceT, '\\nQuantidade de famílias sem acesso a atividades culturais é: ', culturalSpaceF, '\\nQuantidade de famílias que não sabem se tem acesso a atividades culturais', culturalSpaceUnknow)\n",
        "print('\\n=-=-=-=-=-=-=-=-=-=-=-=-=-=-=-=-=-=-=-=-=-=-=-=-=-=-=-=-=-=-=-=-=-=-\\n')\n",
        "print('Quantidade de famílias com acesso a atividades esportivas é: ', sportsSpaceT, '\\nQuantidade de famílias sem acesso a atividades esportivas é: ', sportsSpaceF, '\\nQuantidade de famílias que não sabem se tem acesso a atividades esportivas', sportsSpaceUnknow)\n",
        "print('\\n=-=-=-=-=-=-=-=-=-=-=-=-=-=-=-=-=-=-=-=-=-=-=-=-=-=-=-=-=-=-=-=-=-=-\\n')\n",
        "print('Quantidade de famílias que habitam em área de conflito é: ', conflictAreaT, '\\nQuantidade de famílias que não moram em área de conflito é: ', conflictAreaUnknow, '\\nQuantidade de famílias que não sabem se moram em área de conflito', conflictAreaUnknow)\n",
        "print('\\n=-=-=-=-=-=-=-=-=-=-=-=-=-=-=-=-=-=-=-=-=-=-=-=-=-=-=-=-=-=-=-=-=-=-\\n')\n",
        "print('Quantidade de famílias com acesso a coleta semanal de lixo é: ', trashCleanT, '\\nQuantidade de famílias sem acesso a coleta semanal de lixo é: ', trashCleanF)\n",
        "print('\\n=-=-=-=-=-=-=-=-=-=-=-=-=-=-=-=-=-=-=-=-=-=-=-=-=-=-=-=-=-=-=-=-=-=-\\n')\n",
        "print('Quantidade de famílias com acesso a iluminação por energia elétrica é: ', eletricLightT, '\\nQuantidade de famílias sem acesso a iluminação por energia elétrica é: ', eletricLightF)\n",
        "print('\\n=-=-=-=-=-=-=-=-=-=-=-=-=-=-=-=-=-=-=-=-=-=-=-=-=-=-=-=-=-=-=-=-=-=-\\n')\n",
        "print('Quantidade de famílias com acesso a abastecimento de água por meio da rede geral de distribuição: ', normalDistributionT, '\\nQuantidade de famílias sem acesso a abastecimento de água por meio da rede geral de distribuição: ', normalDistributionF, '\\nQuantidade de famílias que não sabem o meio de acesso a abastecimento de água: ', normalDistributionUnknow )\n",
        "print('\\n=-=-=-=-=-=-=-=-=-=-=-=-=-=-=-=-=-=-=-=-=-=-=-=-=-=-=-=-=-=-=-=-=-=-\\n')\n",
        "print('Quantidade de famílias com casas de alvenaria: ', masonryHouseT, '\\nQuantidade de famílias com casas de outros tipos: ', masonryHouseF)"
      ],
      "metadata": {
        "colab": {
          "base_uri": "https://localhost:8080/"
        },
        "id": "K3sDbAG3BjzV",
        "outputId": "ff1f5480-e4f1-4092-81f9-128420bf12db"
      },
      "execution_count": 62,
      "outputs": [
        {
          "output_type": "stream",
          "name": "stdout",
          "text": [
            "Quantidade de famílias com casa própria é:  10679 \n",
            "Quantidade de famílias sem casa própria é:  7442\n",
            "\n",
            "=-=-=-=-=-=-=-=-=-=-=-=-=-=-=-=-=-=-=-=-=-=-=-=-=-=-=-=-=-=-=-=-=-=-\n",
            "\n",
            "Quantidade de famílias com água tratada é:  12578 \n",
            "Quantidade de famílias sem água tratada é:  5543\n",
            "\n",
            "=-=-=-=-=-=-=-=-=-=-=-=-=-=-=-=-=-=-=-=-=-=-=-=-=-=-=-=-=-=-=-=-=-=-\n",
            "\n",
            "Quantidade de famílias com acesso a atividades culturais é:  10500 \n",
            "Quantidade de famílias sem acesso a atividades culturais é:  71525 \n",
            "Quantidade de famílias que não sabem se tem acesso a atividades culturais 959\n",
            "\n",
            "=-=-=-=-=-=-=-=-=-=-=-=-=-=-=-=-=-=-=-=-=-=-=-=-=-=-=-=-=-=-=-=-=-=-\n",
            "\n",
            "Quantidade de famílias com acesso a atividades esportivas é:  10500 \n",
            "Quantidade de famílias sem acesso a atividades esportivas é:  71525 \n",
            "Quantidade de famílias que não sabem se tem acesso a atividades esportivas 959\n",
            "\n",
            "=-=-=-=-=-=-=-=-=-=-=-=-=-=-=-=-=-=-=-=-=-=-=-=-=-=-=-=-=-=-=-=-=-=-\n",
            "\n",
            "Quantidade de famílias que habitam em área de conflito é:  10500 \n",
            "Quantidade de famílias que não moram em área de conflito é:  72484 \n",
            "Quantidade de famílias que não sabem se moram em área de conflito 72484\n",
            "\n",
            "=-=-=-=-=-=-=-=-=-=-=-=-=-=-=-=-=-=-=-=-=-=-=-=-=-=-=-=-=-=-=-=-=-=-\n",
            "\n",
            "Quantidade de famílias com acesso a coleta semanal de lixo é:  12336 \n",
            "Quantidade de famílias sem acesso a coleta semanal de lixo é:  5785\n",
            "\n",
            "=-=-=-=-=-=-=-=-=-=-=-=-=-=-=-=-=-=-=-=-=-=-=-=-=-=-=-=-=-=-=-=-=-=-\n",
            "\n",
            "Quantidade de famílias com acesso a iluminação por energia elétrica é:  17843 \n",
            "Quantidade de famílias sem acesso a iluminação por energia elétrica é:  278\n",
            "\n",
            "=-=-=-=-=-=-=-=-=-=-=-=-=-=-=-=-=-=-=-=-=-=-=-=-=-=-=-=-=-=-=-=-=-=-\n",
            "\n",
            "Quantidade de famílias com acesso a abastecimento de água por meio da rede geral de distribuição:  10970 \n",
            "Quantidade de famílias sem acesso a abastecimento de água por meio da rede geral de distribuição:  18084 \n",
            "Quantidade de famílias que não sabem o meio de acesso a abastecimento de água:  37\n",
            "\n",
            "=-=-=-=-=-=-=-=-=-=-=-=-=-=-=-=-=-=-=-=-=-=-=-=-=-=-=-=-=-=-=-=-=-=-\n",
            "\n",
            "Quantidade de famílias com casas de alvenaria:  16573 \n",
            "Quantidade de famílias com casas de outros tipos:  1\n"
          ]
        }
      ]
    },
    {
      "cell_type": "code",
      "source": [
        ""
      ],
      "metadata": {
        "id": "yvhxJtRkZiRW"
      },
      "execution_count": null,
      "outputs": []
    }
  ],
  "metadata": {
    "interpreter": {
      "hash": "0a4d9c366fb5a2b7e81cba53a514a8851f3e5d63ae2ae75a2ae84ade15e9c755"
    },
    "kernelspec": {
      "display_name": "Python 3.8.10 ('czrm_venv')",
      "language": "python",
      "name": "python3"
    },
    "language_info": {
      "codemirror_mode": {
        "name": "ipython",
        "version": 3
      },
      "file_extension": ".py",
      "mimetype": "text/x-python",
      "name": "python",
      "nbconvert_exporter": "python",
      "pygments_lexer": "ipython3",
      "version": "3.8.10"
    },
    "orig_nbformat": 4,
    "colab": {
      "name": "vulnerabilityResidence.ipynb",
      "provenance": [],
      "collapsed_sections": [],
      "include_colab_link": true
    }
  },
  "nbformat": 4,
  "nbformat_minor": 0
}