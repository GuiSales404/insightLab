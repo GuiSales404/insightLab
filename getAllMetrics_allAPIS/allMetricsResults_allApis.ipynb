{
  "cells": [
    {
      "cell_type": "markdown",
      "metadata": {
        "id": "iopi8UTv0LNr"
      },
      "source": [
        "# Apply metrics to results"
      ]
    },
    {
      "cell_type": "code",
      "execution_count": 8,
      "metadata": {
        "id": "eGv_fMQW0LN0",
        "colab": {
          "base_uri": "https://localhost:8080/"
        },
        "outputId": "24842434-e161-4364-8b2c-e42f7f2bee0a"
      },
      "outputs": [
        {
          "output_type": "stream",
          "name": "stdout",
          "text": [
            "Requirement already satisfied: jiwer in /usr/local/lib/python3.7/dist-packages (2.3.0)\n",
            "Requirement already satisfied: python-Levenshtein==0.12.2 in /usr/local/lib/python3.7/dist-packages (from jiwer) (0.12.2)\n",
            "Requirement already satisfied: setuptools in /usr/local/lib/python3.7/dist-packages (from python-Levenshtein==0.12.2->jiwer) (57.4.0)\n",
            "Requirement already satisfied: gensim in /usr/local/lib/python3.7/dist-packages (3.6.0)\n",
            "Requirement already satisfied: numpy>=1.11.3 in /usr/local/lib/python3.7/dist-packages (from gensim) (1.19.5)\n",
            "Requirement already satisfied: scipy>=0.18.1 in /usr/local/lib/python3.7/dist-packages (from gensim) (1.4.1)\n",
            "Requirement already satisfied: smart-open>=1.2.1 in /usr/local/lib/python3.7/dist-packages (from gensim) (5.2.1)\n",
            "Requirement already satisfied: six>=1.5.0 in /usr/local/lib/python3.7/dist-packages (from gensim) (1.15.0)\n",
            "Requirement already satisfied: nltk in /usr/local/lib/python3.7/dist-packages (3.6.7)\n",
            "Requirement already satisfied: regex>=2021.8.3 in /usr/local/lib/python3.7/dist-packages (from nltk) (2022.1.18)\n",
            "Requirement already satisfied: joblib in /usr/local/lib/python3.7/dist-packages (from nltk) (1.1.0)\n",
            "Requirement already satisfied: tqdm in /usr/local/lib/python3.7/dist-packages (from nltk) (4.62.3)\n",
            "Requirement already satisfied: click in /usr/local/lib/python3.7/dist-packages (from nltk) (7.1.2)\n",
            "Requirement already satisfied: pandas in /usr/local/lib/python3.7/dist-packages (1.3.5)\n",
            "Requirement already satisfied: numpy>=1.17.3 in /usr/local/lib/python3.7/dist-packages (from pandas) (1.19.5)\n",
            "Requirement already satisfied: python-dateutil>=2.7.3 in /usr/local/lib/python3.7/dist-packages (from pandas) (2.8.2)\n",
            "Requirement already satisfied: pytz>=2017.3 in /usr/local/lib/python3.7/dist-packages (from pandas) (2018.9)\n",
            "Requirement already satisfied: six>=1.5 in /usr/local/lib/python3.7/dist-packages (from python-dateutil>=2.7.3->pandas) (1.15.0)\n"
          ]
        }
      ],
      "source": [
        "!pip install jiwer\n",
        "!pip install gensim\n",
        "!pip install -U nltk\n",
        "!pip install pandas"
      ]
    },
    {
      "cell_type": "code",
      "source": [
        "from google.colab import drive\n",
        "drive.mount('/content/drive')"
      ],
      "metadata": {
        "colab": {
          "base_uri": "https://localhost:8080/"
        },
        "id": "RVbI8RVqtkkj",
        "outputId": "327d75f4-d840-4c72-b2f7-a3489c19ee65"
      },
      "execution_count": 9,
      "outputs": [
        {
          "output_type": "stream",
          "name": "stdout",
          "text": [
            "Drive already mounted at /content/drive; to attempt to forcibly remount, call drive.mount(\"/content/drive\", force_remount=True).\n"
          ]
        }
      ]
    },
    {
      "cell_type": "code",
      "execution_count": 10,
      "metadata": {
        "id": "8RImVRmq0LN2"
      },
      "outputs": [],
      "source": [
        "# Todas as ações relacionadas ao VoxForge estão comentadas pois só sera refeito para o ds do mozilla\n",
        "# Adaptar para o local em que os resultados estão\n",
        "results_path = \"/content/drive/MyDrive/JIDM/Results/\"\n",
        "\n",
        "# Estes devem ser o nome das pastas dentro do result_path. Uma pasta para cada API/Model\n",
        "models_apis = [\"Wit\", \"Azure\", \"Google\", \"Wav2Vec\", \"AWS\", \"Jasper\"]\n",
        "\n",
        "# Estes são os nomes dos arquivos com os resultados das trancrições para computar as métricas\n",
        "results_mozilla = [\"mozilla_wit_api.tsv\", \"mozilla_azure_api.tsv\", \"mozilla_gcloud_api.tsv\",\n",
        "                   \"transcribed_w2v2_metrics_mozilla.tsv\", \"generation_mozilla.tsv\", \"mozilla_result.tsv\"]\n",
        "\n",
        "# results_voxforge = [\"voxforge_wit_api.tsv.tsv\", \"voxforge_azure_api.tsv\", \"voxforge_gcloud_api.tsv\",\n",
        "#                     \"transcribed_w2v2_metrics_voxforge.tsv\", \"generation_voxforge.tsv\", \"voxforge_result.tsv\"]\n",
        "\n",
        "# As métricas computadas ficarão na pasta results_path dentro de cada pasta de models_api.\n",
        "# O nome do arquivo será results_mozilla[i] + \"_metrics.tsv\", para mozilla\n",
        "# O nome do arquivo será results_voxforge[i] + \"_metrics.tsv\", para voforge"
      ]
    },
    {
      "cell_type": "code",
      "execution_count": 11,
      "metadata": {
        "id": "HXz6pmK50LN3"
      },
      "outputs": [],
      "source": [
        "from gensim.models import KeyedVectors\n",
        "\n",
        "emb_models = {\n",
        "    'word2vec_cbow_s50': KeyedVectors.load_word2vec_format('/content/drive/MyDrive/JIDM/embeddings/cbow_s50.txt'),\n",
        "    'word2vec_skip_s50': KeyedVectors.load_word2vec_format('/content/drive/MyDrive/JIDM/embeddings/skip_s50.txt')\n",
        "}"
      ]
    },
    {
      "cell_type": "code",
      "execution_count": 14,
      "metadata": {
        "id": "NOTIbbWs0LN3",
        "colab": {
          "base_uri": "https://localhost:8080/"
        },
        "outputId": "22843c2e-c869-4fa3-e778-b34ab4a65da0"
      },
      "outputs": [
        {
          "output_type": "stream",
          "name": "stderr",
          "text": [
            "[nltk_data] Downloading package rslp to /root/nltk_data...\n",
            "[nltk_data]   Package rslp is already up-to-date!\n",
            "[nltk_data] Downloading package wordnet to /root/nltk_data...\n",
            "[nltk_data]   Package wordnet is already up-to-date!\n",
            "[nltk_data] Downloading package omw-1.4 to /root/nltk_data...\n",
            "[nltk_data]   Unzipping corpora/omw-1.4.zip.\n"
          ]
        }
      ],
      "source": [
        "import re\n",
        "from gensim import corpora\n",
        "from gensim.matutils import softcossim\n",
        "import nltk\n",
        "nltk.download('rslp')\n",
        "nltk.download('wordnet')\n",
        "nltk.download('omw-1.4')\n",
        "from nltk.translate import bleu_score, meteor_score\n",
        "import pandas as pd\n",
        "from jiwer import wer\n",
        "\n",
        "def clean_str(x):\n",
        "    try:\n",
        "        return re.sub('\\W', ' ', x).lower()\n",
        "    except:\n",
        "        # print(x)\n",
        "        return \"\"\n",
        "\n",
        "\n",
        "def cosine_similarity(reference, hypothesis, model):\n",
        "    reference = reference.split()\n",
        "    hypotesis = hypothesis.split()\n",
        "    documents = [hypotesis, reference]\n",
        "    dictionary = corpora.Dictionary(documents)\n",
        "\n",
        "    similarity_matrix = emb_models[model].similarity_matrix(dictionary)\n",
        "\n",
        "    hypotesis = dictionary.doc2bow(hypotesis)\n",
        "    reference = dictionary.doc2bow(reference)\n",
        "\n",
        "    return softcossim(hypotesis, reference, similarity_matrix)\n",
        "\n",
        "\n",
        "def bleu(reference, hypothesis):\n",
        "    references = [reference.split()]\n",
        "    hypothesis = hypothesis.split()\n",
        "\n",
        "    if len(references[0]) == 1:\n",
        "        weights = (1.0, 0.0, 0.0, 0.0)\n",
        "    elif len(references[0]) == 2:\n",
        "        weights = (0.5, 0.5, 0.0, 0.0)\n",
        "    elif len(references[0]) == 3:\n",
        "        weights = (0.4, 0.3, 0.3, 0.0)\n",
        "    else:\n",
        "        weights = (0.4, 0.3, 0.2, 0.1)\n",
        "\n",
        "    return bleu_score.sentence_bleu(references, hypothesis, weights=weights)\n",
        "\n",
        "\n",
        "pt_stemmer = nltk.stem.RSLPStemmer()\n",
        "\n",
        "\n",
        "def meteor(reference, hypothesis):\n",
        "    references = [reference.split()]\n",
        "    hypothesis = hypothesis.split()\n",
        "    return meteor_score.meteor_score(references, hypothesis, stemmer=pt_stemmer)\n",
        "\n",
        "\n",
        "def compute_wer(result, result_column_name=\"translation\"):\n",
        "    originals = result[\"sentence\"]\n",
        "    sentences = result[\"sentence\"].apply(clean_str)\n",
        "    translations = result[result_column_name].apply(clean_str)\n",
        "    \n",
        "    for original, sentence, translation in zip(originals, sentences, translations):\n",
        "        result.loc[result[\"sentence\"] == original,\"wer\"] = wer(sentence, translation)\n",
        "    \n",
        "    return result\n",
        "\n",
        "\n",
        "def compute_cossine_metrics(result, save=True, output_to_save=None, name_dataset=None, result_column_name=\"translation\"):\n",
        "    originals = result[\"sentence\"]\n",
        "    sentences = result[\"sentence\"].apply(clean_str)\n",
        "    translations = result[result_column_name].apply(clean_str)\n",
        "\n",
        "    # Cossine metrics\n",
        "    for model in emb_models:\n",
        "        print(f\"Applying for {model}\")\n",
        "        for original, sentence, translation in zip(originals, sentences, translations):\n",
        "            sentence = clean_str(sentence)\n",
        "            translation = clean_str(translation)\n",
        "            result.loc[result[\"sentence\"] == original, f\"cos_sim_{model}\"] = cosine_similarity(\n",
        "                sentence, translation, model)\n",
        "    \n",
        "    return result\n",
        "\n",
        "\n",
        "def compute_wer_bleu_meteor_metrics(result, save=True, output_to_save=None, name_dataset=None, result_column_name=\"translation\"):\n",
        "    originals = result[\"sentence\"]\n",
        "    sentences = result[\"sentence\"].apply(clean_str)\n",
        "    translations = result[result_column_name].apply(clean_str)\n",
        "    \n",
        "    for original, sentence, translation in zip(originals, sentences, translations):\n",
        "        print(f\"Applying for bleu\")\n",
        "        result.loc[result[\"sentence\"] == original,\n",
        "                   \"bleu\"] = bleu(sentence, translation)\n",
        "        print(f\"Applying for meteor\")\n",
        "        result.loc[result[\"sentence\"] == original,\n",
        "                   \"meteor\"] = meteor(sentence, translation)\n",
        "        print(f\"Applying for wer\")\n",
        "        result.loc[result[\"sentence\"] == original,\n",
        "                   \"wer\"] = wer(sentence, translation)\n",
        "        \n",
        "    return result\n",
        "\n",
        "\n",
        "def get_metrics(result, save=True, output_to_save=None, name_dataset=None, result_column_name=\"translation\"):\n",
        "    originals = result[\"sentence\"]\n",
        "    sentences = result[\"sentence\"].apply(clean_str)\n",
        "    translations = result[result_column_name].apply(clean_str)\n",
        "\n",
        "    # Cossine metrics\n",
        "    for model in emb_models:\n",
        "        print(f\"Applying for {model}\")\n",
        "        for original, sentence, translation in zip(originals, sentences, translations):\n",
        "            sentence = clean_str(sentence)\n",
        "            translation = clean_str(translation)\n",
        "            result.loc[result[\"sentence\"] == original, f\"cos_sim_{model}\"] = cosine_similarity(\n",
        "                sentence, translation, model)\n",
        "\n",
        "    for original, sentence, translation in zip(originals, sentences, translations):\n",
        "        result.loc[result[\"sentence\"] == original,\n",
        "                   \"bleu\"] = bleu(sentence, translation)\n",
        "        result.loc[result[\"sentence\"] == original,\n",
        "                   \"meteor\"] = meteor(sentence, translation)\n",
        "        result.loc[result[\"sentence\"] == original,\n",
        "                   \"wer\"] = wer(sentence, translation)\n",
        "\n",
        "    print(f\"WER: {result['wer'].mean()}\")\n",
        "    print(f\"bleu: {result['bleu'].mean()}\")\n",
        "    print(f\"meteor: {result['meteor'].mean()}\")\n",
        "    for model in emb_models:\n",
        "        print(f'{model}: {result[f\"cos_sim_{model}\"].mean()}')\n",
        "\n",
        "    if save:\n",
        "        result.to_csv(output_to_save +\n",
        "                      f\"/{name_dataset}_metrics.tsv\", sep=\"\\t\", index=False)\n",
        "        \n",
        "    return result"
      ]
    },
    {
      "cell_type": "code",
      "execution_count": 17,
      "metadata": {
        "id": "JTOjt8580LN8",
        "colab": {
          "base_uri": "https://localhost:8080/"
        },
        "outputId": "e2047e5e-97b7-45a5-90ca-7b829729dfe3"
      },
      "outputs": [
        {
          "output_type": "stream",
          "name": "stdout",
          "text": [
            "Calculating for: /content/drive/MyDrive/JIDM/Results/Wit/mozilla_wit_api.tsv\n",
            "Applying for word2vec_cbow_s50\n",
            "Applying for word2vec_skip_s50\n"
          ]
        },
        {
          "output_type": "stream",
          "name": "stderr",
          "text": [
            "/usr/local/lib/python3.7/dist-packages/nltk/translate/bleu_score.py:552: UserWarning: \n",
            "The hypothesis contains 0 counts of 4-gram overlaps.\n",
            "Therefore the BLEU score evaluates to 0, independently of\n",
            "how many N-gram overlaps of lower order it contains.\n",
            "Consider using lower n-gram order or use SmoothingFunction()\n",
            "  warnings.warn(_msg)\n",
            "/usr/local/lib/python3.7/dist-packages/nltk/translate/bleu_score.py:552: UserWarning: \n",
            "The hypothesis contains 0 counts of 2-gram overlaps.\n",
            "Therefore the BLEU score evaluates to 0, independently of\n",
            "how many N-gram overlaps of lower order it contains.\n",
            "Consider using lower n-gram order or use SmoothingFunction()\n",
            "  warnings.warn(_msg)\n",
            "/usr/local/lib/python3.7/dist-packages/nltk/translate/bleu_score.py:552: UserWarning: \n",
            "The hypothesis contains 0 counts of 3-gram overlaps.\n",
            "Therefore the BLEU score evaluates to 0, independently of\n",
            "how many N-gram overlaps of lower order it contains.\n",
            "Consider using lower n-gram order or use SmoothingFunction()\n",
            "  warnings.warn(_msg)\n"
          ]
        },
        {
          "output_type": "stream",
          "name": "stdout",
          "text": [
            "WER: 0.06699888779679487\n",
            "bleu: 0.8713992788332702\n",
            "meteor: 0.9234176959444156\n",
            "word2vec_cbow_s50: 0.9592391234675652\n",
            "word2vec_skip_s50: 0.9648679727242702\n",
            "Calculating for: /content/drive/MyDrive/JIDM/Results/Azure/mozilla_azure_api.tsv\n",
            "Applying for word2vec_cbow_s50\n",
            "Applying for word2vec_skip_s50\n"
          ]
        },
        {
          "output_type": "stream",
          "name": "stderr",
          "text": [
            "/usr/local/lib/python3.7/dist-packages/nltk/translate/bleu_score.py:552: UserWarning: \n",
            "The hypothesis contains 0 counts of 2-gram overlaps.\n",
            "Therefore the BLEU score evaluates to 0, independently of\n",
            "how many N-gram overlaps of lower order it contains.\n",
            "Consider using lower n-gram order or use SmoothingFunction()\n",
            "  warnings.warn(_msg)\n",
            "/usr/local/lib/python3.7/dist-packages/nltk/translate/bleu_score.py:552: UserWarning: \n",
            "The hypothesis contains 0 counts of 3-gram overlaps.\n",
            "Therefore the BLEU score evaluates to 0, independently of\n",
            "how many N-gram overlaps of lower order it contains.\n",
            "Consider using lower n-gram order or use SmoothingFunction()\n",
            "  warnings.warn(_msg)\n",
            "/usr/local/lib/python3.7/dist-packages/nltk/translate/bleu_score.py:552: UserWarning: \n",
            "The hypothesis contains 0 counts of 4-gram overlaps.\n",
            "Therefore the BLEU score evaluates to 0, independently of\n",
            "how many N-gram overlaps of lower order it contains.\n",
            "Consider using lower n-gram order or use SmoothingFunction()\n",
            "  warnings.warn(_msg)\n"
          ]
        },
        {
          "output_type": "stream",
          "name": "stdout",
          "text": [
            "WER: 0.07971765777521167\n",
            "bleu: 0.8643648492899277\n",
            "meteor: 0.9209197060674728\n",
            "word2vec_cbow_s50: 0.9442506607405963\n",
            "word2vec_skip_s50: 0.9503021784272242\n",
            "Calculating for: /content/drive/MyDrive/JIDM/Results/Google/mozilla_gcloud_api.tsv\n",
            "Applying for word2vec_cbow_s50\n",
            "Applying for word2vec_skip_s50\n"
          ]
        },
        {
          "output_type": "stream",
          "name": "stderr",
          "text": [
            "/usr/local/lib/python3.7/dist-packages/nltk/translate/bleu_score.py:552: UserWarning: \n",
            "The hypothesis contains 0 counts of 2-gram overlaps.\n",
            "Therefore the BLEU score evaluates to 0, independently of\n",
            "how many N-gram overlaps of lower order it contains.\n",
            "Consider using lower n-gram order or use SmoothingFunction()\n",
            "  warnings.warn(_msg)\n",
            "/usr/local/lib/python3.7/dist-packages/nltk/translate/bleu_score.py:552: UserWarning: \n",
            "The hypothesis contains 0 counts of 3-gram overlaps.\n",
            "Therefore the BLEU score evaluates to 0, independently of\n",
            "how many N-gram overlaps of lower order it contains.\n",
            "Consider using lower n-gram order or use SmoothingFunction()\n",
            "  warnings.warn(_msg)\n",
            "/usr/local/lib/python3.7/dist-packages/nltk/translate/bleu_score.py:552: UserWarning: \n",
            "The hypothesis contains 0 counts of 4-gram overlaps.\n",
            "Therefore the BLEU score evaluates to 0, independently of\n",
            "how many N-gram overlaps of lower order it contains.\n",
            "Consider using lower n-gram order or use SmoothingFunction()\n",
            "  warnings.warn(_msg)\n"
          ]
        },
        {
          "output_type": "stream",
          "name": "stdout",
          "text": [
            "WER: 0.1271517288031348\n",
            "bleu: 0.7793935996797233\n",
            "meteor: 0.8779685379065291\n",
            "word2vec_cbow_s50: 0.9137690262772099\n",
            "word2vec_skip_s50: 0.9230080475960342\n",
            "Calculating for: /content/drive/MyDrive/JIDM/Results/Wav2Vec/transcribed_w2v2_metrics_mozilla.tsv\n",
            "Applying for word2vec_cbow_s50\n",
            "Applying for word2vec_skip_s50\n"
          ]
        },
        {
          "output_type": "stream",
          "name": "stderr",
          "text": [
            "/usr/local/lib/python3.7/dist-packages/nltk/translate/bleu_score.py:552: UserWarning: \n",
            "The hypothesis contains 0 counts of 2-gram overlaps.\n",
            "Therefore the BLEU score evaluates to 0, independently of\n",
            "how many N-gram overlaps of lower order it contains.\n",
            "Consider using lower n-gram order or use SmoothingFunction()\n",
            "  warnings.warn(_msg)\n",
            "/usr/local/lib/python3.7/dist-packages/nltk/translate/bleu_score.py:552: UserWarning: \n",
            "The hypothesis contains 0 counts of 3-gram overlaps.\n",
            "Therefore the BLEU score evaluates to 0, independently of\n",
            "how many N-gram overlaps of lower order it contains.\n",
            "Consider using lower n-gram order or use SmoothingFunction()\n",
            "  warnings.warn(_msg)\n",
            "/usr/local/lib/python3.7/dist-packages/nltk/translate/bleu_score.py:552: UserWarning: \n",
            "The hypothesis contains 0 counts of 4-gram overlaps.\n",
            "Therefore the BLEU score evaluates to 0, independently of\n",
            "how many N-gram overlaps of lower order it contains.\n",
            "Consider using lower n-gram order or use SmoothingFunction()\n",
            "  warnings.warn(_msg)\n"
          ]
        },
        {
          "output_type": "stream",
          "name": "stdout",
          "text": [
            "WER: 0.10801561094236037\n",
            "bleu: 0.7933085453194396\n",
            "meteor: 0.8884671717556847\n",
            "word2vec_cbow_s50: 0.9211899788936844\n",
            "word2vec_skip_s50: 0.9312614979003944\n",
            "Calculating for: /content/drive/MyDrive/JIDM/Results/AWS/generation_mozilla.tsv\n",
            "Applying for word2vec_cbow_s50\n",
            "Applying for word2vec_skip_s50\n"
          ]
        },
        {
          "output_type": "stream",
          "name": "stderr",
          "text": [
            "/usr/local/lib/python3.7/dist-packages/nltk/translate/bleu_score.py:552: UserWarning: \n",
            "The hypothesis contains 0 counts of 3-gram overlaps.\n",
            "Therefore the BLEU score evaluates to 0, independently of\n",
            "how many N-gram overlaps of lower order it contains.\n",
            "Consider using lower n-gram order or use SmoothingFunction()\n",
            "  warnings.warn(_msg)\n",
            "/usr/local/lib/python3.7/dist-packages/nltk/translate/bleu_score.py:552: UserWarning: \n",
            "The hypothesis contains 0 counts of 4-gram overlaps.\n",
            "Therefore the BLEU score evaluates to 0, independently of\n",
            "how many N-gram overlaps of lower order it contains.\n",
            "Consider using lower n-gram order or use SmoothingFunction()\n",
            "  warnings.warn(_msg)\n",
            "/usr/local/lib/python3.7/dist-packages/nltk/translate/bleu_score.py:552: UserWarning: \n",
            "The hypothesis contains 0 counts of 2-gram overlaps.\n",
            "Therefore the BLEU score evaluates to 0, independently of\n",
            "how many N-gram overlaps of lower order it contains.\n",
            "Consider using lower n-gram order or use SmoothingFunction()\n",
            "  warnings.warn(_msg)\n"
          ]
        },
        {
          "output_type": "stream",
          "name": "stdout",
          "text": [
            "WER: 0.14944453664205132\n",
            "bleu: 0.7347800233767898\n",
            "meteor: 0.8574449423297679\n",
            "word2vec_cbow_s50: 0.9046086348019502\n",
            "word2vec_skip_s50: 0.9170273635958393\n",
            "Calculating for: /content/drive/MyDrive/JIDM/Results/Jasper/mozilla_result.tsv\n",
            "Applying for word2vec_cbow_s50\n",
            "Applying for word2vec_skip_s50\n"
          ]
        },
        {
          "output_type": "stream",
          "name": "stderr",
          "text": [
            "/usr/local/lib/python3.7/dist-packages/nltk/translate/bleu_score.py:552: UserWarning: \n",
            "The hypothesis contains 0 counts of 4-gram overlaps.\n",
            "Therefore the BLEU score evaluates to 0, independently of\n",
            "how many N-gram overlaps of lower order it contains.\n",
            "Consider using lower n-gram order or use SmoothingFunction()\n",
            "  warnings.warn(_msg)\n",
            "/usr/local/lib/python3.7/dist-packages/nltk/translate/bleu_score.py:552: UserWarning: \n",
            "The hypothesis contains 0 counts of 3-gram overlaps.\n",
            "Therefore the BLEU score evaluates to 0, independently of\n",
            "how many N-gram overlaps of lower order it contains.\n",
            "Consider using lower n-gram order or use SmoothingFunction()\n",
            "  warnings.warn(_msg)\n",
            "/usr/local/lib/python3.7/dist-packages/nltk/translate/bleu_score.py:552: UserWarning: \n",
            "The hypothesis contains 0 counts of 2-gram overlaps.\n",
            "Therefore the BLEU score evaluates to 0, independently of\n",
            "how many N-gram overlaps of lower order it contains.\n",
            "Consider using lower n-gram order or use SmoothingFunction()\n",
            "  warnings.warn(_msg)\n"
          ]
        },
        {
          "output_type": "stream",
          "name": "stdout",
          "text": [
            "WER: 0.2411026042484512\n",
            "bleu: 0.5775898312329616\n",
            "meteor: 0.7555478814061313\n",
            "word2vec_cbow_s50: 0.8136234978659692\n",
            "word2vec_skip_s50: 0.835366487767901\n"
          ]
        }
      ],
      "source": [
        "# Mozilla\n",
        "for idx in range(0, len(models_apis)):\n",
        "    result_path = f\"{results_path}{models_apis[idx]}/\"\n",
        "    result_file = f\"{result_path}{results_mozilla[idx]}\"\n",
        "    \n",
        "    print(f\"Calculating for: {result_file}\")\n",
        "    result_df = pd.read_csv(result_file, sep='\\t')\n",
        "    result_df = get_metrics(result_df, output_to_save=result_path, name_dataset=\"mozilla\")\n",
        "    \n",
        "# Voxforge\n",
        "# for idx in range(0, len(models_apis)):\n",
        "#     result_path = f\"{results_path}{models_apis[idx]}/\"\n",
        "#     result_file = f\"{result_path}{results_voxforge[idx]}\"\n",
        "    \n",
        "#     print(f\"Calculating for: {result_file}\")\n",
        "#     result_df = pd.read_csv(result_file, sep='\\t')\n",
        "#     result_df = get_metrics(result_df, output_to_save=result_path, name_dataset=\"voxforge\")"
      ]
    },
    {
      "cell_type": "markdown",
      "metadata": {
        "id": "0utNkRTN0LN9"
      },
      "source": [
        "# Metrics from all models ans API's"
      ]
    },
    {
      "cell_type": "markdown",
      "metadata": {
        "id": "bdpsjbIi0LN-"
      },
      "source": [
        "### Given that we have all the results we can conpute the summary of the translations in the following order:\n",
        "\n",
        "#### Mozilla\n",
        "        | WER | BLEU | METEOR | Word2Vec CBOW | Word2Vec SKIP\n",
        "* Wit\n",
        "* Azure\n",
        "* Google Cloud      \n",
        "* Wav2Vec2.0        \n",
        "* AWS               \n",
        "* Jasper            \n",
        "\n",
        "#### Voxforge\n",
        "        | WER | BLEU | METEOR | Word2Vec CBOW | Word2Vec SKIP\n",
        "* Wit\n",
        "* Azure             \n",
        "* Google Cloud      \n",
        "* Wav2Vec2.0        \n",
        "* AWS               \n",
        "* Jasper           "
      ]
    },
    {
      "cell_type": "code",
      "execution_count": 18,
      "metadata": {
        "id": "KCpuQ0BZ0LN_",
        "outputId": "83056def-7277-43e1-9001-b3f6b994839f",
        "colab": {
          "base_uri": "https://localhost:8080/"
        }
      },
      "outputs": [
        {
          "output_type": "stream",
          "name": "stdout",
          "text": [
            "#################### MOZILLA #####################\n",
            "API | WER | BLEU | METEOR | W2V CBOW | W2V SKIP\n",
            "Wit | 0.0669989 | 0.8713993 | 0.9234177 | 0.9592391 | 0.964868\n",
            "Azure | 0.0797177 | 0.8643648 | 0.9209197 | 0.9442507 | 0.9503022\n",
            "Google | 0.1271517 | 0.7793936 | 0.8779685 | 0.913769 | 0.923008\n",
            "Wav2Vec | 0.1080156 | 0.7933085 | 0.8884672 | 0.92119 | 0.9312615\n",
            "AWS | 0.1494445 | 0.73478 | 0.8574449 | 0.9046086 | 0.9170274\n",
            "Jasper | 0.2411026 | 0.5775898 | 0.7555479 | 0.8136235 | 0.8353665\n"
          ]
        }
      ],
      "source": [
        "# Mozilla\n",
        "res_wit = f\"{results_path}Wit/mozilla_metrics.tsv\"\n",
        "res_azure = f\"{results_path}Azure/mozilla_metrics.tsv\"\n",
        "res_gcloud = f\"{results_path}Google/mozilla_metrics.tsv\"\n",
        "res_wav2vec = f\"{results_path}Wav2Vec/mozilla_metrics.tsv\"\n",
        "res_aws = f\"{results_path}AWS/mozilla_metrics.tsv\"\n",
        "res_jasper = f\"{results_path}Jasper/mozilla_metrics.tsv\"\n",
        "\n",
        "wit = pd.read_csv(res_wit, sep=\"\\t\")\n",
        "azure = pd.read_csv(res_azure, sep=\"\\t\")\n",
        "gcloud = pd.read_csv(res_gcloud, sep=\"\\t\")\n",
        "w2v = pd.read_csv(res_wav2vec, sep=\"\\t\")\n",
        "aws = pd.read_csv(res_aws, sep=\"\\t\")\n",
        "jasper = pd.read_csv(res_jasper, sep=\"\\t\")\n",
        "\n",
        "print(\"#################### MOZILLA #####################\")\n",
        "print(f\"API | WER | BLEU | METEOR | W2V CBOW | W2V SKIP\")\n",
        "print(f\"Wit | {round(wit.wer.mean(),7)} | {round(wit.bleu.mean(),7)} | {round(wit.meteor.mean(),7)} | {round(wit.cos_sim_word2vec_cbow_s50.mean(),7)} | {round(wit.cos_sim_word2vec_skip_s50.mean(),7)}\")\n",
        "print(f\"Azure | {round(azure.wer.mean(),7)} | {round(azure.bleu.mean(),7)} | {round(azure.meteor.mean(),7)} | {round(azure.cos_sim_word2vec_cbow_s50.mean(),7)} | {round(azure.cos_sim_word2vec_skip_s50.mean(),7)}\")\n",
        "print(f\"Google | {round(gcloud.wer.mean(),7)} | {round(gcloud.bleu.mean(),7)} | {round(gcloud.meteor.mean(),7)} | {round(gcloud.cos_sim_word2vec_cbow_s50.mean(),7)} | {round(gcloud.cos_sim_word2vec_skip_s50.mean(),7)}\")\n",
        "print(f\"Wav2Vec | {round(w2v.wer.mean(),7)} | {round(w2v.bleu.mean(),7)} | {round(w2v.meteor.mean(),7)} | {round(w2v.cos_sim_word2vec_cbow_s50.mean(),7)} | {round(w2v.cos_sim_word2vec_skip_s50.mean(),7)}\")\n",
        "print(f\"AWS | {round(aws.wer.mean(),7)} | {round(aws.bleu.mean(),7)} | {round(aws.meteor.mean(),7)} | {round(aws.cos_sim_word2vec_cbow_s50.mean(),7)} | {round(aws.cos_sim_word2vec_skip_s50.mean(),7)}\")\n",
        "print(f\"Jasper | {round(jasper.wer.mean(),7)} | {round(jasper.bleu.mean(),7)} | {round(jasper.meteor.mean(),7)} | {round(jasper.cos_sim_word2vec_cbow_s50.mean(),7)} | {round(jasper.cos_sim_word2vec_skip_s50.mean(),7)}\")"
      ]
    },
    {
      "cell_type": "code",
      "execution_count": null,
      "metadata": {
        "id": "ZJ7U9MXo0LOA"
      },
      "outputs": [],
      "source": [
        "# # Voxforge\n",
        "# res_wit = f\"{results_path}Wit/voxforge_metrics.tsv\"\n",
        "# res_azure = f\"{results_path}Azure/voxforge_metrics.tsv\"\n",
        "# res_gcloud = f\"{results_path}Google/voxforge_metrics.tsv\"\n",
        "# res_wav2vec = f\"{results_path}Wav2Vec/voxforge_metrics.tsv\"\n",
        "# res_aws = f\"{results_path}AWS/voxforge_metrics.tsv\"\n",
        "# res_jasper = f\"{results_path}Jasper/voxforge_metrics.tsv\"\n",
        "\n",
        "# wit = pd.read_csv(res_wit, sep=\"\\t\")\n",
        "# azure = pd.read_csv(res_azure, sep=\"\\t\")\n",
        "# gcloud = pd.read_csv(res_gcloud, sep=\"\\t\")\n",
        "# w2v = pd.read_csv(res_wav2vec, sep=\"\\t\")\n",
        "# aws = pd.read_csv(res_aws, sep=\"\\t\")\n",
        "# jasper = pd.read_csv(res_jasper, sep=\"\\t\")\n",
        "\n",
        "# print(\"#################### VOXFORGE #####################\")\n",
        "# print(f\"API | WER | BLEU | METEOR | W2V CBOW | W2V SKIP\")\n",
        "# print(f\"Wit | {round(wit.wer.mean(),7)} | {round(wit.bleu.mean(),7)} | {round(wit.meteor.mean(),7)} | {round(wit.cos_sim_word2vec_cbow_s50.mean(),7)} | {round(wit.cos_sim_word2vec_skip_s50.mean(),7)}\")\n",
        "# print(f\"Azure | {round(azure.wer.mean(),7)} | {round(azure.bleu.mean(),7)} | {round(azure.meteor.mean(),7)} | {round(azure.cos_sim_word2vec_cbow_s50.mean(),7)} | {round(azure.cos_sim_word2vec_skip_s50.mean(),7)}\")\n",
        "# print(f\"Google | {round(gcloud.wer.mean(),7)} | {round(gcloud.bleu.mean(),7)} | {round(gcloud.meteor.mean(),7)} | {round(gcloud.cos_sim_word2vec_cbow_s50.mean(),7)} | {round(gcloud.cos_sim_word2vec_skip_s50.mean(),7)}\")\n",
        "# print(f\"Wav2Vec | {round(w2v.wer.mean(),7)} | {round(w2v.bleu.mean(),7)} | {round(w2v.meteor.mean(),7)} | {round(w2v.cos_sim_word2vec_cbow_s50.mean(),7)} | {round(w2v.cos_sim_word2vec_skip_s50.mean(),7)}\")\n",
        "# print(f\"AWS | {round(aws.wer.mean(),7)} | {round(aws.bleu.mean(),7)} | {round(aws.meteor.mean(),7)} | {round(aws.cos_sim_word2vec_cbow_s50.mean(),7)} | {round(aws.cos_sim_word2vec_skip_s50.mean(),7)}\")\n",
        "# print(f\"Jasper | {round(jasper.wer.mean(),7)} | {round(jasper.bleu.mean(),7)} | {round(jasper.meteor.mean(),7)} | {round(jasper.cos_sim_word2vec_cbow_s50.mean(),7)} | {round(jasper.cos_sim_word2vec_skip_s50.mean(),7)}\")"
      ]
    }
  ],
  "metadata": {
    "colab": {
      "collapsed_sections": [],
      "name": "allMetricsResults_allApis.ipynb",
      "provenance": []
    },
    "kernelspec": {
      "display_name": "Python 3",
      "name": "python3"
    },
    "language_info": {
      "codemirror_mode": {
        "name": "ipython",
        "version": 3
      },
      "file_extension": ".py",
      "mimetype": "text/x-python",
      "name": "python",
      "nbconvert_exporter": "python",
      "pygments_lexer": "ipython3",
      "version": "3.8.10"
    }
  },
  "nbformat": 4,
  "nbformat_minor": 0
}